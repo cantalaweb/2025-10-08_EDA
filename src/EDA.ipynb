{
 "cells": [
  {
   "cell_type": "markdown",
   "id": "637e576f-48e4-41cc-aedb-94dc27cc3e02",
   "metadata": {},
   "source": [
    "# RDA"
   ]
  },
  {
   "cell_type": "markdown",
   "id": "4841e512-e355-4a61-b881-e0ff72343794",
   "metadata": {},
   "source": [
    "# El 70-75% de la comida de un supermercado es ultraprocesada, y de ella, un alto porcentaje es insalubre.\n",
    "\n",
    "### Vamos a comprobarlo usando un *dataset* que contiene todos los productos de Mercadona."
   ]
  },
  {
   "cell_type": "code",
   "execution_count": 1,
   "id": "0fc397a1-4d6f-44ec-865c-46d75cf862fa",
   "metadata": {
    "collapsed": true,
    "jupyter": {
     "outputs_hidden": true
    }
   },
   "outputs": [
    {
     "name": "stdout",
     "output_type": "stream",
     "text": [
      "Requirement already satisfied: numpy in /Library/Frameworks/Python.framework/Versions/3.11/lib/python3.11/site-packages (2.3.3)\n",
      "Note: you may need to restart the kernel to use updated packages.\n"
     ]
    }
   ],
   "source": [
    "pip install numpy"
   ]
  },
  {
   "cell_type": "code",
   "execution_count": 2,
   "id": "a44c80be-fdec-4e0f-a26f-b5c364b150f9",
   "metadata": {
    "collapsed": true,
    "jupyter": {
     "outputs_hidden": true
    }
   },
   "outputs": [
    {
     "name": "stdout",
     "output_type": "stream",
     "text": [
      "Requirement already satisfied: pandas in /Library/Frameworks/Python.framework/Versions/3.11/lib/python3.11/site-packages (2.3.3)\n",
      "Requirement already satisfied: numpy>=1.23.2 in /Library/Frameworks/Python.framework/Versions/3.11/lib/python3.11/site-packages (from pandas) (2.3.3)\n",
      "Requirement already satisfied: python-dateutil>=2.8.2 in /Library/Frameworks/Python.framework/Versions/3.11/lib/python3.11/site-packages (from pandas) (2.9.0.post0)\n",
      "Requirement already satisfied: pytz>=2020.1 in /Library/Frameworks/Python.framework/Versions/3.11/lib/python3.11/site-packages (from pandas) (2025.2)\n",
      "Requirement already satisfied: tzdata>=2022.7 in /Library/Frameworks/Python.framework/Versions/3.11/lib/python3.11/site-packages (from pandas) (2025.2)\n",
      "Requirement already satisfied: six>=1.5 in /Library/Frameworks/Python.framework/Versions/3.11/lib/python3.11/site-packages (from python-dateutil>=2.8.2->pandas) (1.17.0)\n",
      "Note: you may need to restart the kernel to use updated packages.\n"
     ]
    }
   ],
   "source": [
    "pip install pandas"
   ]
  },
  {
   "cell_type": "code",
   "execution_count": 3,
   "id": "ed3b5597-aed5-4a88-828e-f79cea0dd4ef",
   "metadata": {},
   "outputs": [],
   "source": [
    "import numpy as np\n",
    "import pandas as pd"
   ]
  },
  {
   "cell_type": "code",
   "execution_count": 5,
   "id": "b00339e2-cbae-4b26-b986-c711a98ada05",
   "metadata": {},
   "outputs": [],
   "source": [
    "df = pd.read_csv('../data/products_macro.csv')\n",
    "df.set_index('id', inplace=True)"
   ]
  },
  {
   "cell_type": "code",
   "execution_count": 7,
   "id": "e28092af-8ed8-4a0f-99fb-ec399f41b51a",
   "metadata": {},
   "outputs": [
    {
     "data": {
      "text/html": [
       "<div>\n",
       "<style scoped>\n",
       "    .dataframe tbody tr th:only-of-type {\n",
       "        vertical-align: middle;\n",
       "    }\n",
       "\n",
       "    .dataframe tbody tr th {\n",
       "        vertical-align: top;\n",
       "    }\n",
       "\n",
       "    .dataframe thead th {\n",
       "        text-align: right;\n",
       "    }\n",
       "</style>\n",
       "<table border=\"1\" class=\"dataframe\">\n",
       "  <thead>\n",
       "    <tr style=\"text-align: right;\">\n",
       "      <th></th>\n",
       "      <th>Category</th>\n",
       "      <th>name</th>\n",
       "      <th>subtitle</th>\n",
       "      <th>price</th>\n",
       "      <th>discount_price</th>\n",
       "      <th>main_image_url</th>\n",
       "      <th>secondary_image_url</th>\n",
       "      <th>nutritional_info</th>\n",
       "    </tr>\n",
       "    <tr>\n",
       "      <th>id</th>\n",
       "      <th></th>\n",
       "      <th></th>\n",
       "      <th></th>\n",
       "      <th></th>\n",
       "      <th></th>\n",
       "      <th></th>\n",
       "      <th></th>\n",
       "      <th></th>\n",
       "    </tr>\n",
       "  </thead>\n",
       "  <tbody>\n",
       "    <tr>\n",
       "      <th>1</th>\n",
       "      <td>Vacuno</td>\n",
       "      <td>Filetes de vacuno 1º B añojo para plancha o gu...</td>\n",
       "      <td>Bandeja 550 g aprox.</td>\n",
       "      <td>9,74 €</td>\n",
       "      <td>NaN</td>\n",
       "      <td>https://prod-mercadona.imgix.net/images/49cda6...</td>\n",
       "      <td>https://prod-mercadona.imgix.net/images/c597a3...</td>\n",
       "      <td>Filetes de vacuno 1º B añojo para plancha o gu...</td>\n",
       "    </tr>\n",
       "    <tr>\n",
       "      <th>2</th>\n",
       "      <td>Vacuno</td>\n",
       "      <td>Filetes lomo de vacuno añojo para plancha</td>\n",
       "      <td>Bandeja 440 g aprox.</td>\n",
       "      <td>9,55 €</td>\n",
       "      <td>NaN</td>\n",
       "      <td>https://prod-mercadona.imgix.net/images/d961de...</td>\n",
       "      <td>https://prod-mercadona.imgix.net/images/cc867a...</td>\n",
       "      <td>Filetes lomo de vacuno añojo para plancha, Ban...</td>\n",
       "    </tr>\n",
       "    <tr>\n",
       "      <th>3</th>\n",
       "      <td>Vacuno</td>\n",
       "      <td>Solomillo de vacuno añojo para plancha</td>\n",
       "      <td>Bandeja 300 g aprox.</td>\n",
       "      <td>12,06 €</td>\n",
       "      <td>NaN</td>\n",
       "      <td>https://prod-mercadona.imgix.net/images/74569f...</td>\n",
       "      <td>https://prod-mercadona.imgix.net/images/a45a9d...</td>\n",
       "      <td>Solomillo de vacuno añojo para plancha, Bandej...</td>\n",
       "    </tr>\n",
       "    <tr>\n",
       "      <th>4</th>\n",
       "      <td>Vacuno</td>\n",
       "      <td>Carpaccio de vacuno</td>\n",
       "      <td>Bandeja 110 g</td>\n",
       "      <td>4,10 €</td>\n",
       "      <td>NaN</td>\n",
       "      <td>https://prod-mercadona.imgix.net/images/6f939e...</td>\n",
       "      <td>https://prod-mercadona.imgix.net/images/2da0dd...</td>\n",
       "      <td>Carpaccio de vacuno, Bandeja, 110 Gramos, 4,10...</td>\n",
       "    </tr>\n",
       "    <tr>\n",
       "      <th>5</th>\n",
       "      <td>Vacuno</td>\n",
       "      <td>Filetes de vacuno añojo para plancha</td>\n",
       "      <td>Bandeja 500 g aprox.</td>\n",
       "      <td>9,10 €</td>\n",
       "      <td>NaN</td>\n",
       "      <td>https://prod-mercadona.imgix.net/images/907137...</td>\n",
       "      <td>https://prod-mercadona.imgix.net/images/5664f3...</td>\n",
       "      <td>Filetes de vacuno añojo para plancha, Bandeja,...</td>\n",
       "    </tr>\n",
       "  </tbody>\n",
       "</table>\n",
       "</div>"
      ],
      "text/plain": [
       "   Category                                               name  \\\n",
       "id                                                               \n",
       "1    Vacuno  Filetes de vacuno 1º B añojo para plancha o gu...   \n",
       "2    Vacuno          Filetes lomo de vacuno añojo para plancha   \n",
       "3    Vacuno             Solomillo de vacuno añojo para plancha   \n",
       "4    Vacuno                                Carpaccio de vacuno   \n",
       "5    Vacuno               Filetes de vacuno añojo para plancha   \n",
       "\n",
       "                subtitle    price discount_price  \\\n",
       "id                                                 \n",
       "1   Bandeja 550 g aprox.   9,74 €            NaN   \n",
       "2   Bandeja 440 g aprox.   9,55 €            NaN   \n",
       "3   Bandeja 300 g aprox.  12,06 €            NaN   \n",
       "4          Bandeja 110 g   4,10 €            NaN   \n",
       "5   Bandeja 500 g aprox.   9,10 €            NaN   \n",
       "\n",
       "                                       main_image_url  \\\n",
       "id                                                      \n",
       "1   https://prod-mercadona.imgix.net/images/49cda6...   \n",
       "2   https://prod-mercadona.imgix.net/images/d961de...   \n",
       "3   https://prod-mercadona.imgix.net/images/74569f...   \n",
       "4   https://prod-mercadona.imgix.net/images/6f939e...   \n",
       "5   https://prod-mercadona.imgix.net/images/907137...   \n",
       "\n",
       "                                  secondary_image_url  \\\n",
       "id                                                      \n",
       "1   https://prod-mercadona.imgix.net/images/c597a3...   \n",
       "2   https://prod-mercadona.imgix.net/images/cc867a...   \n",
       "3   https://prod-mercadona.imgix.net/images/a45a9d...   \n",
       "4   https://prod-mercadona.imgix.net/images/2da0dd...   \n",
       "5   https://prod-mercadona.imgix.net/images/5664f3...   \n",
       "\n",
       "                                     nutritional_info  \n",
       "id                                                     \n",
       "1   Filetes de vacuno 1º B añojo para plancha o gu...  \n",
       "2   Filetes lomo de vacuno añojo para plancha, Ban...  \n",
       "3   Solomillo de vacuno añojo para plancha, Bandej...  \n",
       "4   Carpaccio de vacuno, Bandeja, 110 Gramos, 4,10...  \n",
       "5   Filetes de vacuno añojo para plancha, Bandeja,...  "
      ]
     },
     "execution_count": 7,
     "metadata": {},
     "output_type": "execute_result"
    }
   ],
   "source": [
    "df.head()"
   ]
  },
  {
   "cell_type": "markdown",
   "id": "f8f97ecd-62b3-4186-9674-60cda010a465",
   "metadata": {},
   "source": [
    "---\n",
    "\n",
    "### Tan sólo necesito extraer la información nutricional de cada `secondary_image_url`."
   ]
  },
  {
   "cell_type": "markdown",
   "id": "fbd9c3a3-9806-40c3-b7b3-8b0b3220246c",
   "metadata": {},
   "source": [
    "![item](https://prod-mercadona.imgix.net/images/7f9cef52d9dbf5c1b45145e63b9d5e23.jpg?fit=crop&h=600&w=600)"
   ]
  },
  {
   "cell_type": "code",
   "execution_count": null,
   "id": "e5782254-5611-4f0b-8bb6-c2eb086db2c4",
   "metadata": {},
   "outputs": [],
   "source": []
  }
 ],
 "metadata": {
  "kernelspec": {
   "display_name": "Python 3.11.9",
   "language": "python",
   "name": "py311"
  },
  "language_info": {
   "codemirror_mode": {
    "name": "ipython",
    "version": 3
   },
   "file_extension": ".py",
   "mimetype": "text/x-python",
   "name": "python",
   "nbconvert_exporter": "python",
   "pygments_lexer": "ipython3",
   "version": "3.11.9"
  }
 },
 "nbformat": 4,
 "nbformat_minor": 5
}
